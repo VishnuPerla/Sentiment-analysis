{
 "cells": [
  {
   "cell_type": "markdown",
   "metadata": {},
   "source": [
    "# Week 4 :\n",
    "\n"
   ]
  },
  {
   "cell_type": "markdown",
   "metadata": {},
   "source": [
    "# Problem Statement : \n",
    "\n",
    "The problem is to perform sentiment analysis on twitter tweets.And in the train dataset we have two columns 1st the text which contains the tweets and the 2nd with the sentiment of the respective tweet either Positive,Negative or Neutral.And in the validation dataset we have only the text column . Our task is to classify each tweet into either positive,negative or neutral.So for this we have to perform various text mining techniques to make the machine understand the human language.And feed the model with some important words that influence the sentiment of a particular tweet.And perform sentiment analysis on data that the model have never seen.\n",
    "\n",
    "Dealing with the text data:\n",
    "\n",
    "When it is text data the main task is not about choosing the model,rather choosing the best way to deal with text mining.The more deep you deal with the text cleaning,the more it is going to speak.\n",
    "So there are various methods to deal with text data such as : \n",
    "\n",
    "1)n-grams\n",
    "2)TF(Term Frequency)\n",
    "3)IDF(Inverse Document Frequency)\n",
    "4)Bag of Words\n",
    "5)Word Embedding\n",
    "\n",
    "Among all these each have their own way to deal with data and it completely depends on the person to choose.\n",
    "\n"
   ]
  },
  {
   "cell_type": "markdown",
   "metadata": {},
   "source": [
    "# Model 1 :\n",
    "\n",
    "For the model 1 I have chosen the Bag of words.\n",
    "\n",
    "Bag of words : Bag of Words model is used to preprocess the text by converting it into a bag of words, which keeps a count of the total occurrences of most frequently used words.\n",
    "\n",
    "TF-IDF : Tf–idf means term frequency–inverse document frequency,it is a numerical statistic that is intended to reflect how important a word is to a document in a collection or corpus.\n",
    "\n",
    "Corpus :  Corpus refers to a collection of texts. Such collections may be formed of a single language of texts, or can span multiple languages\n"
   ]
  },
  {
   "cell_type": "markdown",
   "metadata": {
    "colab_type": "text",
    "id": "S8vCeZ6W0Rnz"
   },
   "source": [
    "# Importing the libraries"
   ]
  },
  {
   "cell_type": "code",
   "execution_count": 5,
   "metadata": {
    "colab": {},
    "colab_type": "code",
    "id": "sVhMNZPG0Rn1",
    "scrolled": true
   },
   "outputs": [],
   "source": [
    "import numpy as np\n",
    "import matplotlib.pyplot as plt\n",
    "import pandas as pd\n",
    "from sklearn.model_selection import train_test_split"
   ]
  },
  {
   "cell_type": "markdown",
   "metadata": {
    "colab_type": "text",
    "id": "i16huy5Y0Rn5"
   },
   "source": [
    "# Importing the dataset"
   ]
  },
  {
   "cell_type": "code",
   "execution_count": 6,
   "metadata": {
    "colab": {},
    "colab_type": "code",
    "id": "AdUVcjAt0Rn5"
   },
   "outputs": [],
   "source": [
    "dataset = pd.read_csv('train.csv')\n",
    "dataset=dataset.dropna()"
   ]
  },
  {
   "cell_type": "code",
   "execution_count": 7,
   "metadata": {
    "colab": {
     "base_uri": "https://localhost:8080/",
     "height": 35
    },
    "colab_type": "code",
    "id": "LJ5c2Jbo0Rn8",
    "outputId": "0730cc84-f58a-4ec3-dd99-6a61b952630e"
   },
   "outputs": [
    {
     "data": {
      "text/plain": [
       "(27447, 2)"
      ]
     },
     "execution_count": 7,
     "metadata": {},
     "output_type": "execute_result"
    }
   ],
   "source": [
    "dataset.shape"
   ]
  },
  {
   "cell_type": "code",
   "execution_count": 8,
   "metadata": {
    "colab": {},
    "colab_type": "code",
    "id": "rx9xmYZq0RoA"
   },
   "outputs": [],
   "source": [
    "dataset['sentiment'].replace(('negative','neutral','positive'), (2,0,1), inplace=True)"
   ]
  },
  {
   "cell_type": "code",
   "execution_count": 9,
   "metadata": {
    "colab": {
     "base_uri": "https://localhost:8080/",
     "height": 87
    },
    "colab_type": "code",
    "id": "fKiSdm860RoC",
    "outputId": "548f420e-e654-425b-8a26-1b9399bd9bcf"
   },
   "outputs": [
    {
     "data": {
      "text/plain": [
       "0    11105\n",
       "1     8575\n",
       "2     7767\n",
       "Name: sentiment, dtype: int64"
      ]
     },
     "execution_count": 9,
     "metadata": {},
     "output_type": "execute_result"
    }
   ],
   "source": [
    "counts=dataset['sentiment'].value_counts()\n",
    "counts"
   ]
  },
  {
   "cell_type": "markdown",
   "metadata": {},
   "source": [
    "# The Positives,Negatives and Neutrals number doesn't differ alot"
   ]
  },
  {
   "cell_type": "code",
   "execution_count": 10,
   "metadata": {
    "colab": {
     "base_uri": "https://localhost:8080/",
     "height": 319
    },
    "colab_type": "code",
    "id": "XQiof-aH0RoF",
    "outputId": "1bdb40f6-c0fe-4660-acfd-bfb2bd7fc755"
   },
   "outputs": [
    {
     "data": {
      "image/png": "[encoded data removed]",
      "text/plain": [
       "<Figure size 432x288 with 1 Axes>"
      ]
     },
     "metadata": {},
     "output_type": "display_data"
    }
   ],
   "source": [
    "from matplotlib import pyplot as plt\n",
    "import numpy as np\n",
    "fig = plt.figure()\n",
    "ax = fig.add_axes([0,0,1,1])\n",
    "ax.axis('equal')\n",
    "lab = ['Positive','Negative','Neutral']\n",
    "ax.pie(counts,labels=lab,autopct='%1.2f%%',explode=(0.01,0.01,0.01))\n",
    "plt.show()"
   ]
  },
  {
   "cell_type": "markdown",
   "metadata": {
    "colab_type": "text",
    "id": "g_EEBLNp0RoJ"
   },
   "source": [
    "# Cleaning the texts"
   ]
  },
  {
   "cell_type": "code",
   "execution_count": 11,
   "metadata": {
    "colab": {
     "base_uri": "https://localhost:8080/",
     "height": 52
    },
    "colab_type": "code",
    "id": "NOFlrGsJ0RoK",
    "outputId": "c25513b0-07d8-4f0d-a6ec-150432677379"
   },
   "outputs": [
    {
     "name": "stderr",
     "output_type": "stream",
     "text": [
      "[nltk_data] Downloading package stopwords to\n",
      "[nltk_data]     C:\\Users\\perla\\AppData\\Roaming\\nltk_data...\n",
      "[nltk_data]   Package stopwords is already up-to-date!\n"
     ]
    }
   ],
   "source": [
    "import re\n",
    "import nltk\n",
    "nltk.download('stopwords')\n",
    "from nltk.corpus import stopwords\n",
    "from nltk.stem.porter import PorterStemmer"
   ]
  },
  {
   "cell_type": "code",
   "execution_count": null,
   "metadata": {
    "colab": {},
    "colab_type": "code",
    "id": "_a9OZbPZ0RoN"
   },
   "outputs": [],
   "source": [
    "corpus = []\n",
    "for i in range(0,27447):\n",
    "    review = re.sub(\"[^a-zA-Z]\", \" \", str(dataset.text))\n",
    "    review = review.lower()\n",
    "    review = review.split()\n",
    "    ps = PorterStemmer()\n",
    "    review = [ps.stem(word) for word in review if not word in set(stopwords.words('english'))]\n",
    "    review = ' '.join(review)\n",
    "    corpus.append(review)"
   ]
  },
  {
   "cell_type": "markdown",
   "metadata": {
    "colab_type": "text",
    "id": "KRtyy21Y0RoP"
   },
   "source": [
    "# Creating the Bag of Words model"
   ]
  },
  {
   "cell_type": "code",
   "execution_count": null,
   "metadata": {
    "colab": {},
    "colab_type": "code",
    "id": "7lZ0v5Gr0RoP"
   },
   "outputs": [],
   "source": [
    "from sklearn.feature_extraction.text import CountVectorizer\n",
    "cv = CountVectorizer(max_features=500)\n",
    "cv.fit(corpus)\n",
    "X = cv.transform(corpus).toarray()\n",
    "y = dataset.iloc[:, 1].values"
   ]
  },
  {
   "cell_type": "code",
   "execution_count": null,
   "metadata": {
    "colab": {},
    "colab_type": "code",
    "id": "2-1N2M4_0RoY"
   },
   "outputs": [],
   "source": [
    "X_train, X_test, y_train, y_test = train_test_split(dataset['text'], dataset['sentiment'],test_size=0.20 ,random_state = 123)"
   ]
  },
  {
   "cell_type": "code",
   "execution_count": null,
   "metadata": {
    "colab": {},
    "colab_type": "code",
    "id": "D5d9NyRE0RoS"
   },
   "outputs": [],
   "source": [
    "from sklearn.feature_extraction.text import TfidfTransformer\n",
    "tfidf_transformer=TfidfTransformer()\n",
    "tfidf_trans=tfidf_transformer.fit_transform(X)\n",
    "tfidf_trans=tfidf_trans.toarray()"
   ]
  },
  {
   "cell_type": "code",
   "execution_count": null,
   "metadata": {
    "colab": {},
    "colab_type": "code",
    "id": "WICZLh8O0RoU"
   },
   "outputs": [],
   "source": [
    "#For train set\n",
    "count_vect = CountVectorizer(max_features=9693)\n",
    "X_train_counts = count_vect.fit_transform(X_train)\n",
    "tfidf_trans= TfidfTransformer()\n",
    "X_train_tfidf = tfidf_trans.fit_transform(X_train_counts).toarray()\n",
    "\n",
    "#for test set\n",
    "X_test_counts = count_vect.fit_transform(X_test)\n",
    "tfidf_trans = TfidfTransformer()\n",
    "X_test_tfidf = tfidf_trans.fit_transform(X_test_counts).toarray()"
   ]
  },
  {
   "cell_type": "code",
   "execution_count": null,
   "metadata": {
    "colab": {},
    "colab_type": "code",
    "id": "rkuKxgvM0RoW"
   },
   "outputs": [],
   "source": [
    "from sklearn.model_selection import train_test_split\n",
    "from sklearn.feature_extraction.text import CountVectorizer\n",
    "from sklearn.feature_extraction.text import TfidfTransformer\n",
    "from sklearn.naive_bayes import MultinomialNB"
   ]
  },
  {
   "cell_type": "code",
   "execution_count": null,
   "metadata": {
    "colab": {},
    "colab_type": "code",
    "id": "9rWyTQiN0Roa",
    "scrolled": true
   },
   "outputs": [],
   "source": [
    "clf = MultinomialNB().fit(X_train_tfidf, y_train)"
   ]
  },
  {
   "cell_type": "code",
   "execution_count": null,
   "metadata": {
    "colab": {},
    "colab_type": "code",
    "id": "72QWLpfJ0Roc"
   },
   "outputs": [],
   "source": [
    "y_pred = clf.predict(X_test_tfidf)"
   ]
  },
  {
   "cell_type": "code",
   "execution_count": null,
   "metadata": {
    "colab": {
     "base_uri": "https://localhost:8080/",
     "height": 35
    },
    "colab_type": "code",
    "id": "mrTDdH6y0Roe",
    "outputId": "a10a466f-fca3-4577-d243-57f5addbd49e"
   },
   "outputs": [
    {
     "data": {
      "text/plain": [
       "(5490, 9693)"
      ]
     },
     "execution_count": 17,
     "metadata": {
      "tags": []
     },
     "output_type": "execute_result"
    }
   ],
   "source": [
    "X_test_tfidf.shape"
   ]
  },
  {
   "cell_type": "code",
   "execution_count": null,
   "metadata": {
    "colab": {
     "base_uri": "https://localhost:8080/",
     "height": 35
    },
    "colab_type": "code",
    "id": "95d4lgHf0Rog",
    "outputId": "cfd598d3-f095-4adf-9b73-acbf9f9ef02e",
    "scrolled": true
   },
   "outputs": [
    {
     "data": {
      "text/plain": [
       "((21957,), (5490,), (5490, 9693), (21957, 9693))"
      ]
     },
     "execution_count": 18,
     "metadata": {
      "tags": []
     },
     "output_type": "execute_result"
    }
   ],
   "source": [
    "y_train.shape,y_test.shape,X_test_tfidf.shape,X_train_tfidf.shape"
   ]
  },
  {
   "cell_type": "code",
   "execution_count": null,
   "metadata": {
    "colab": {
     "base_uri": "https://localhost:8080/",
     "height": 35
    },
    "colab_type": "code",
    "id": "Z9EV2_b10Roj",
    "outputId": "4f95b25d-4196-4110-e92a-8be5bfd5d1f4"
   },
   "outputs": [
    {
     "data": {
      "text/plain": [
       "((21957, 9693), (5490, 9693), (5490,), (5490,))"
      ]
     },
     "execution_count": 19,
     "metadata": {
      "tags": []
     },
     "output_type": "execute_result"
    }
   ],
   "source": [
    "X_train_tfidf.shape,X_test_tfidf.shape,y_test.shape,y_pred.shape"
   ]
  },
  {
   "cell_type": "code",
   "execution_count": null,
   "metadata": {
    "colab": {
     "base_uri": "https://localhost:8080/",
     "height": 69
    },
    "colab_type": "code",
    "id": "TrApFPVS0Rol",
    "outputId": "2c12cb72-bb49-41c8-9079-fd697e0261b4"
   },
   "outputs": [
    {
     "data": {
      "text/plain": [
       "array([[1021,  560,  605],\n",
       "       [ 719,  509,  476],\n",
       "       [ 706,  392,  502]])"
      ]
     },
     "execution_count": 20,
     "metadata": {
      "tags": []
     },
     "output_type": "execute_result"
    }
   ],
   "source": [
    "from sklearn.metrics import confusion_matrix\n",
    "cm = confusion_matrix(y_test, y_pred)\n",
    "cm"
   ]
  },
  {
   "cell_type": "code",
   "execution_count": null,
   "metadata": {
    "colab": {
     "base_uri": "https://localhost:8080/",
     "height": 35
    },
    "colab_type": "code",
    "id": "Eutn0C7R0Ron",
    "outputId": "a31d3f50-c49b-417f-8756-c18bd7f3090d"
   },
   "outputs": [
    {
     "data": {
      "text/plain": [
       "0.37012750455373405"
      ]
     },
     "execution_count": 21,
     "metadata": {
      "tags": []
     },
     "output_type": "execute_result"
    }
   ],
   "source": [
    "from sklearn.metrics import accuracy_score\n",
    "accuracy_score(y_test,y_pred)"
   ]
  },
  {
   "cell_type": "code",
   "execution_count": null,
   "metadata": {
    "colab": {
     "base_uri": "https://localhost:8080/",
     "height": 191
    },
    "colab_type": "code",
    "id": "75VMPomw0Rop",
    "outputId": "361f8c68-a643-4f23-c97f-c791e0abc551"
   },
   "outputs": [
    {
     "name": "stdout",
     "output_type": "stream",
     "text": [
      "              precision    recall  f1-score   support\n",
      "\n",
      "           0       0.42      0.47      0.44      2186\n",
      "           1       0.35      0.30      0.32      1704\n",
      "           2       0.32      0.31      0.32      1600\n",
      "\n",
      "    accuracy                           0.37      5490\n",
      "   macro avg       0.36      0.36      0.36      5490\n",
      "weighted avg       0.37      0.37      0.37      5490\n",
      "\n"
     ]
    }
   ],
   "source": [
    "from sklearn.metrics import classification_report\n",
    "print(classification_report(y_test, y_pred))"
   ]
  },
  {
   "cell_type": "markdown",
   "metadata": {
    "colab_type": "text",
    "id": "M9hPEB_K0Ros"
   },
   "source": [
    "# The Accuracy is very poor and the time taken is also too long  so I have used a different approach in the text mining part in the next model"
   ]
  },
  {
   "cell_type": "markdown",
   "metadata": {},
   "source": [
    "# Model 2 :\n",
    "\n",
    "From the 1st model we found that the model have taken a bit more time to execute and the accuracy is also poor.So lets put our primary goal to improve the accuracy.So making some changes to the previous model. Let us apply a different technique in dealing with the text data.\n",
    "\n",
    "In this model we will use Stemming and Lemmatization method for our text mining purpose.\n",
    "\n",
    "Stemming : stemming is the process of reducing inflected words to their word stem, base or root form.\n",
    "\n",
    "\n",
    "Lemmatization : Lemmatization usually refers to doing things properly with the use of a vocabulary and morphological analysis of words, normally aiming to remove inflectional endings only and to return the base or dictionary form of a word, which is known as the lemma ."
   ]
  },
  {
   "cell_type": "code",
   "execution_count": 1,
   "metadata": {},
   "outputs": [
    {
     "name": "stderr",
     "output_type": "stream",
     "text": [
      "[nltk_data] Downloading package punkt to\n",
      "[nltk_data]     C:\\Users\\perla\\AppData\\Roaming\\nltk_data...\n",
      "[nltk_data]   Package punkt is already up-to-date!\n",
      "[nltk_data] Downloading package wordnet to\n",
      "[nltk_data]     C:\\Users\\perla\\AppData\\Roaming\\nltk_data...\n",
      "[nltk_data]   Package wordnet is already up-to-date!\n",
      "[nltk_data] Downloading package stopwords to\n",
      "[nltk_data]     C:\\Users\\perla\\AppData\\Roaming\\nltk_data...\n",
      "[nltk_data]   Package stopwords is already up-to-date!\n"
     ]
    },
    {
     "data": {
      "text/plain": [
       "True"
      ]
     },
     "execution_count": 1,
     "metadata": {},
     "output_type": "execute_result"
    }
   ],
   "source": [
    "import numpy as np\n",
    "import pandas as pd\n",
    "import matplotlib.pyplot as plt\n",
    "import seaborn as sns\n",
    "import nltk\n",
    "from sklearn.feature_extraction.text import CountVectorizer\n",
    "from sklearn.feature_extraction.text import TfidfTransformer\n",
    "nltk.download('punkt')\n",
    "nltk.download('wordnet')\n",
    "nltk.download('stopwords')"
   ]
  },
  {
   "cell_type": "code",
   "execution_count": 12,
   "metadata": {},
   "outputs": [
    {
     "name": "stdout",
     "output_type": "stream",
     "text": [
      "text         1\n",
      "sentiment    0\n",
      "dtype: int64\n"
     ]
    }
   ],
   "source": [
    "data1=pd.read_csv('train.csv')\n",
    "print(data1.isna().sum())\n",
    "data1=data1.dropna()"
   ]
  },
  {
   "cell_type": "code",
   "execution_count": 13,
   "metadata": {},
   "outputs": [
    {
     "name": "stdout",
     "output_type": "stream",
     "text": [
      "['Playing', 'Ghost', 'Online', 'is', 'really', 'interesting', '.', 'The', 'new', 'updates', 'are', 'Kirin', 'pet', 'and', 'Metamorph', 'for', 'third', 'job', '.', 'Can', '`', 't', 'wait', 'to', 'have', 'a', 'dragon', 'pet']\n"
     ]
    }
   ],
   "source": [
    "tokens=nltk.word_tokenize(data1.text[1])\n",
    "print(tokens)"
   ]
  },
  {
   "cell_type": "code",
   "execution_count": 14,
   "metadata": {},
   "outputs": [
    {
     "name": "stdout",
     "output_type": "stream",
     "text": [
      "['Playing', 'Ghost', 'Online', 'is', 'really', 'interesting', '.', 'The', 'new', 'updates', 'are', 'Kirin', 'pet', 'and', 'Metamorph', 'for', 'third', 'job', '.', 'Can', '`', 't', 'wait', 'to', 'have', 'a', 'dragon', 'pet']\n"
     ]
    }
   ],
   "source": [
    "from nltk.tokenize import word_tokenize\n",
    "tokenized_word=word_tokenize(data1.text[1])\n",
    "print(tokenized_word)"
   ]
  },
  {
   "cell_type": "code",
   "execution_count": 15,
   "metadata": {},
   "outputs": [
    {
     "name": "stdout",
     "output_type": "stream",
     "text": [
      "Lemmatized Word: Playing Ghost Online is really interesting. The new updates are Kirin pet and Metamorph for third job.  Can`t wait to have a dragon pet\n",
      "Stemmed Word: playing ghost online is really interesting. the new updates are kirin pet and metamorph for third job.  can`t wait to have a dragon pet\n"
     ]
    }
   ],
   "source": [
    "from nltk.stem.wordnet import WordNetLemmatizer\n",
    "lem = WordNetLemmatizer()\n",
    "\n",
    "from nltk.stem.porter import PorterStemmer\n",
    "stem = PorterStemmer()\n",
    "\n",
    "word = data1.text[1]\n",
    "print(\"Lemmatized Word:\",lem.lemmatize(word,\"v\"))\n",
    "print(\"Stemmed Word:\",stem.stem(word))"
   ]
  },
  {
   "cell_type": "code",
   "execution_count": 16,
   "metadata": {},
   "outputs": [
    {
     "name": "stdout",
     "output_type": "stream",
     "text": [
      "['is cleaning the house for her family who is comming later today..']\n"
     ]
    }
   ],
   "source": [
    "from nltk.tokenize import sent_tokenize\n",
    "text=data1.text[2]\n",
    "tokenized_text=sent_tokenize(text)\n",
    "print(tokenized_text)"
   ]
  },
  {
   "cell_type": "code",
   "execution_count": 17,
   "metadata": {},
   "outputs": [
    {
     "name": "stdout",
     "output_type": "stream",
     "text": [
      "['is', 'cleaning', 'the', 'house', 'for', 'her', 'family', 'who', 'is', 'comming', 'later', 'today..']\n"
     ]
    }
   ],
   "source": [
    "from nltk.tokenize import word_tokenize\n",
    "tokenized_word=word_tokenize(text)\n",
    "print(tokenized_word)"
   ]
  },
  {
   "cell_type": "code",
   "execution_count": 18,
   "metadata": {},
   "outputs": [
    {
     "name": "stdout",
     "output_type": "stream",
     "text": [
      "<FreqDist with 11 samples and 12 outcomes>\n"
     ]
    }
   ],
   "source": [
    "from nltk.probability import FreqDist\n",
    "fdist = FreqDist(tokenized_word)\n",
    "print(fdist)"
   ]
  },
  {
   "cell_type": "code",
   "execution_count": 19,
   "metadata": {},
   "outputs": [
    {
     "data": {
      "text/plain": [
       "[('is', 2),\n",
       " ('cleaning', 1),\n",
       " ('the', 1),\n",
       " ('house', 1),\n",
       " ('for', 1),\n",
       " ('her', 1),\n",
       " ('family', 1),\n",
       " ('who', 1),\n",
       " ('comming', 1),\n",
       " ('later', 1),\n",
       " ('today..', 1)]"
      ]
     },
     "execution_count": 19,
     "metadata": {},
     "output_type": "execute_result"
    }
   ],
   "source": [
    "fdist.most_common()"
   ]
  },
  {
   "cell_type": "code",
   "execution_count": 20,
   "metadata": {},
   "outputs": [
    {
     "data": {
      "image/png": "[encoded data removed]",
      "text/plain": [
       "<Figure size 432x288 with 1 Axes>"
      ]
     },
     "metadata": {
      "needs_background": "light"
     },
     "output_type": "display_data"
    }
   ],
   "source": [
    "import matplotlib.pyplot as plt\n",
    "fdist.plot(30,cumulative=False)\n",
    "plt.show()"
   ]
  },
  {
   "cell_type": "code",
   "execution_count": 21,
   "metadata": {},
   "outputs": [
    {
     "name": "stdout",
     "output_type": "stream",
     "text": [
      "{'did', 'a', 'my', 'couldn', 'down', 'most', 'your', 'had', 'both', 'didn', 'for', 'mustn', 'this', 'why', 'can', 'all', \"wouldn't\", 'their', 'an', \"mightn't\", 'is', \"you've\", 'her', \"you'll\", 'ours', 'not', 're', 'now', 'were', 'am', 'because', 'which', 'at', 'other', 'where', 'above', 'more', \"haven't\", \"needn't\", 'himself', 'have', 'him', 'these', 'and', \"aren't\", 'of', 'aren', 'you', 'further', 'few', 'ma', 'she', 'nor', 'the', 'should', 'between', 'off', \"that'll\", 'from', 'then', 'those', 'ourselves', 'having', 'his', 'into', 'any', \"it's\", 'itself', 'than', 'whom', 'does', 'so', \"hadn't\", 'has', \"didn't\", 'don', \"weren't\", \"mustn't\", \"you'd\", 'during', 'there', 'weren', 'here', 'out', 'who', 'been', 'through', 'again', \"she's\", 'in', \"wasn't\", 'me', 'its', 'them', \"shouldn't\", 'such', 've', 'hers', 'wouldn', 'once', 'after', 'as', 'll', 't', \"should've\", 'what', 'isn', 'being', 'theirs', 'doing', 's', 'needn', 'over', 'by', 'some', 'below', 'until', \"couldn't\", 'are', 'or', 'each', 'hasn', 'they', 'before', 'will', 'won', 'do', 'y', 'very', 'too', 'up', 'how', 'with', 'it', 'just', \"don't\", 'myself', 'm', 'i', 'yourself', 'yours', 'wasn', 'he', 'haven', 'while', 'shan', 'we', 'only', 'on', \"hasn't\", 'our', 'same', 'hadn', 'was', 'be', 'themselves', \"won't\", 'yourselves', 'shouldn', 'o', 'if', \"you're\", \"isn't\", 'that', 'herself', 'against', 'about', 'under', \"doesn't\", \"shan't\", 'ain', 'own', 'no', 'd', 'to', 'when', 'doesn', 'but', 'mightn'}\n"
     ]
    }
   ],
   "source": [
    "from nltk.corpus import stopwords\n",
    "stop_words=set(stopwords.words(\"english\"))\n",
    "print(stop_words)"
   ]
  },
  {
   "cell_type": "markdown",
   "metadata": {},
   "source": [
    "# The above printed words are the Stopwords and these words are ignored in the analysis when they appear in a tweet"
   ]
  },
  {
   "cell_type": "code",
   "execution_count": 22,
   "metadata": {},
   "outputs": [],
   "source": [
    "tokenized_sent = tokenized_word"
   ]
  },
  {
   "cell_type": "code",
   "execution_count": 23,
   "metadata": {},
   "outputs": [
    {
     "name": "stdout",
     "output_type": "stream",
     "text": [
      "Tokenized Sentence: ['is', 'cleaning', 'the', 'house', 'for', 'her', 'family', 'who', 'is', 'comming', 'later', 'today..']\n",
      "Filterd Sentence: ['cleaning', 'house', 'family', 'comming', 'later', 'today..']\n"
     ]
    }
   ],
   "source": [
    "filtered_sent=[]\n",
    "for w in tokenized_sent:\n",
    "    if w not in stop_words:\n",
    "        filtered_sent.append(w)\n",
    "print(\"Tokenized Sentence:\",tokenized_sent)\n",
    "print(\"Filterd Sentence:\",filtered_sent)"
   ]
  },
  {
   "cell_type": "code",
   "execution_count": 25,
   "metadata": {},
   "outputs": [],
   "source": [
    "from scipy import sparse\n",
    "import re\n",
    "from collections import Counter\n",
    "import ast # to transform str to dic\n",
    "from nltk.stem import WordNetLemmatizer\n",
    "import nltk\n",
    "from nltk.corpus import stopwords # Import the stop word list\n",
    "from nltk.stem import PorterStemmer\n",
    "from nltk.stem import LancasterStemmer\n",
    "from nltk.tokenize import sent_tokenize, word_tokenize\n",
    "from wordcloud import WordCloud, ImageColorGenerator\n",
    "import matplotlib.pyplot as plt"
   ]
  },
  {
   "cell_type": "markdown",
   "metadata": {},
   "source": [
    "# Working with each tweet to know how various methods can simplify the text"
   ]
  },
  {
   "cell_type": "code",
   "execution_count": 26,
   "metadata": {},
   "outputs": [
    {
     "name": "stdout",
     "output_type": "stream",
     "text": [
      "Filtered Sentence: ['cleaning', 'house', 'family', 'comming', 'later', 'today..']\n",
      "Stemmed Sentence: ['clean', 'hous', 'famili', 'com', 'later', 'today..']\n"
     ]
    }
   ],
   "source": [
    "from nltk.stem import PorterStemmer\n",
    "from nltk.tokenize import sent_tokenize, word_tokenize\n",
    "\n",
    "ps = PorterStemmer()\n",
    "\n",
    "stemmed_words=[]\n",
    "for w in filtered_sent:\n",
    "    stemmed_words.append(ps.stem(w))\n",
    "\n",
    "print(\"Filtered Sentence:\",filtered_sent)\n",
    "print(\"Stemmed Sentence:\",stemmed_words)"
   ]
  },
  {
   "cell_type": "code",
   "execution_count": 27,
   "metadata": {},
   "outputs": [],
   "source": [
    "from sklearn.feature_extraction.text import CountVectorizer\n",
    "from nltk.tokenize import RegexpTokenizer\n",
    "\n",
    "token = RegexpTokenizer(r'[a-zA-Z0-9]+')\n",
    "cv = CountVectorizer(lowercase=True,stop_words='english',ngram_range = (1,1),tokenizer = token.tokenize)\n",
    "text_counts= cv.fit_transform(data1['text'])"
   ]
  },
  {
   "cell_type": "code",
   "execution_count": 28,
   "metadata": {},
   "outputs": [],
   "source": [
    "from sklearn.model_selection import train_test_split\n",
    "X_train, X_test, y_train, y_test = train_test_split(text_counts, data1['sentiment'], test_size=0.3, random_state=1)"
   ]
  },
  {
   "cell_type": "code",
   "execution_count": 29,
   "metadata": {},
   "outputs": [
    {
     "data": {
      "text/plain": [
       "0.6438372799028537"
      ]
     },
     "execution_count": 29,
     "metadata": {},
     "output_type": "execute_result"
    }
   ],
   "source": [
    "from sklearn.naive_bayes import MultinomialNB\n",
    "from sklearn import metrics\n",
    "\n",
    "clf = MultinomialNB().fit(X_train, y_train)\n",
    "y_pred= clf.predict(X_test)\n",
    "metrics.accuracy_score(y_test, y_pred)"
   ]
  },
  {
   "cell_type": "code",
   "execution_count": 30,
   "metadata": {},
   "outputs": [],
   "source": [
    "from sklearn.model_selection import KFold\n",
    "from sklearn.metrics import accuracy_score\n",
    "from sklearn import tree\n",
    "import seaborn as sns"
   ]
  },
  {
   "cell_type": "markdown",
   "metadata": {},
   "source": [
    "The good thing here is that the accuracy had improved and the time taken to execute was also less when compared to the 1st model.And this code was taken from data camp:\n",
    "https://www.datacamp.com/community/tutorials/text-analytics-beginners-nltk\n",
    "\n",
    "And this code also had some techniques to handle text data,find the frequency of each word in a sentence.Stemming ,POS Tagging(Parts of Speech) for each sentence.\n",
    "All the techniques were not implemented in the model but some changes were made when compared to the previous model.\n",
    "\n",
    "\n"
   ]
  },
  {
   "cell_type": "markdown",
   "metadata": {},
   "source": [
    "# Model 3 :\n",
    "\n",
    "For the 3rd model I have used XGBoost and the resulting accuracy had increased to 69.35% approx 70% .\n",
    "\n",
    "XGBoost : XGBoost is a decision-tree-based ensemble Machine Learning algorithm that uses a gradient boosting framework.It can be used to solve regression, classification, ranking, and user-defined prediction problems.\n",
    "Validation strategies and accuracy :\n"
   ]
  },
  {
   "cell_type": "code",
   "execution_count": 32,
   "metadata": {},
   "outputs": [
    {
     "name": "stdout",
     "output_type": "stream",
     "text": [
      "[12:48:28] WARNING: C:\\Users\\Administrator\\workspace\\xgboost-win64_release_1.1.0\\src\\learner.cc:480: \n",
      "Parameters: { default, tweedie_variance_power } might not be used.\n",
      "\n",
      "  This may not be accurate due to some parameters are only used in language bindings but\n",
      "  passed down to XGBoost core.  Or some parameters are not used but slip through this\n",
      "  verification. Please open an issue if you find above cases.\n",
      "\n",
      "\n"
     ]
    },
    {
     "data": {
      "text/plain": [
       "XGBClassifier(base_score=0.5, booster='gbtree', colsample_bylevel=1,\n",
       "              colsample_bynode=1, colsample_bytree=1, default='gbtree', gamma=0,\n",
       "              gpu_id=-1, grow_policy='lossguide', importance_type='gain',\n",
       "              interaction_constraints='', learning_rate=0.5, max_delta_step=0,\n",
       "              max_depth=5, max_leaves=5, min_child_weight=1, missing=nan,\n",
       "              monotone_constraints='()', n_estimators=100, n_jobs=0,\n",
       "              num_parallel_tree=1, objective='multi:softprob',\n",
       "              predictor='cpu_predictor', random_state=123, reg_alpha=0,\n",
       "              reg_lambda=1, scale_pos_weight=None, subsample=0.5,\n",
       "              tree_method='exact', tweedie_variance_power=2, ...)"
      ]
     },
     "execution_count": 32,
     "metadata": {},
     "output_type": "execute_result"
    }
   ],
   "source": [
    "import xgboost\n",
    "from xgboost import XGBClassifier\n",
    "classifier = XGBClassifier(default='gbtree',learning_rate=0.5,random_state=123,max_depth=5,subsample=0.5,tree_method='exact',grow_policy='lossguide',max_leaves=5,predictor='cpu_predictor',tweedie_variance_power=2)\n",
    "classifier.fit(X_train, y_train)"
   ]
  },
  {
   "cell_type": "code",
   "execution_count": 33,
   "metadata": {},
   "outputs": [
    {
     "name": "stdout",
     "output_type": "stream",
     "text": [
      "[[1249  953  164]\n",
      " [ 329 2597  385]\n",
      " [  82  624 1852]]\n"
     ]
    },
    {
     "data": {
      "text/plain": [
       "0.6919247115968428"
      ]
     },
     "execution_count": 33,
     "metadata": {},
     "output_type": "execute_result"
    }
   ],
   "source": [
    "from sklearn.metrics import confusion_matrix, accuracy_score\n",
    "y_pred = classifier.predict(X_test)\n",
    "cm = confusion_matrix(y_test, y_pred)\n",
    "print(cm)\n",
    "accuracy_score(y_test, y_pred)"
   ]
  },
  {
   "cell_type": "markdown",
   "metadata": {},
   "source": [
    "# KFold Cross Validation\n",
    "\n",
    "Cross-validation is a statistical method used to estimate the skill of machine learning models."
   ]
  },
  {
   "cell_type": "code",
   "execution_count": 40,
   "metadata": {},
   "outputs": [
    {
     "name": "stdout",
     "output_type": "stream",
     "text": [
      "[13:07:17] WARNING: C:\\Users\\Administrator\\workspace\\xgboost-win64_release_1.1.0\\src\\learner.cc:480: \n",
      "Parameters: { default, tweedie_variance_power } might not be used.\n",
      "\n",
      "  This may not be accurate due to some parameters are only used in language bindings but\n",
      "  passed down to XGBoost core.  Or some parameters are not used but slip through this\n",
      "  verification. Please open an issue if you find above cases.\n",
      "\n",
      "\n",
      "[13:07:20] WARNING: C:\\Users\\Administrator\\workspace\\xgboost-win64_release_1.1.0\\src\\learner.cc:480: \n",
      "Parameters: { default, tweedie_variance_power } might not be used.\n",
      "\n",
      "  This may not be accurate due to some parameters are only used in language bindings but\n",
      "  passed down to XGBoost core.  Or some parameters are not used but slip through this\n",
      "  verification. Please open an issue if you find above cases.\n",
      "\n",
      "\n",
      "[13:07:23] WARNING: C:\\Users\\Administrator\\workspace\\xgboost-win64_release_1.1.0\\src\\learner.cc:480: \n",
      "Parameters: { default, tweedie_variance_power } might not be used.\n",
      "\n",
      "  This may not be accurate due to some parameters are only used in language bindings but\n",
      "  passed down to XGBoost core.  Or some parameters are not used but slip through this\n",
      "  verification. Please open an issue if you find above cases.\n",
      "\n",
      "\n",
      "[13:07:26] WARNING: C:\\Users\\Administrator\\workspace\\xgboost-win64_release_1.1.0\\src\\learner.cc:480: \n",
      "Parameters: { default, tweedie_variance_power } might not be used.\n",
      "\n",
      "  This may not be accurate due to some parameters are only used in language bindings but\n",
      "  passed down to XGBoost core.  Or some parameters are not used but slip through this\n",
      "  verification. Please open an issue if you find above cases.\n",
      "\n",
      "\n",
      "[70.10928961748634, 70.10928961748634, 70.10928961748634, 70.10928961748634]\n"
     ]
    }
   ],
   "source": [
    "kf = KFold(n_splits=4,shuffle=True)\n",
    "kf.split(data1)    \n",
    "     \n",
    "# Initialize the accuracy of the models to blank list. The accuracy of each model will be appended to this list\n",
    "accuracy_model = []\n",
    " \n",
    "# Iterate over each train-test split\n",
    "for train_index, test_index in kf.split(data1):\n",
    "    # Split train-test\n",
    "    X_train, X_test, y_train, y_test = train_test_split(text_counts, data1['sentiment'], test_size=0.20, random_state=1)\n",
    "    # Train the model\n",
    "    model = classifier.fit(X_train, y_train)\n",
    "    # Append to accuracy_model the accuracy of the model\n",
    "    accuracy_model.append(accuracy_score(y_test, model.predict(X_test), normalize=True)*100)\n",
    "\n",
    "# Print the accuracy    \n",
    "print(accuracy_model)"
   ]
  },
  {
   "cell_type": "markdown",
   "metadata": {},
   "source": [
    "# How would you like to improve your model/accuracies?\n",
    "\n",
    "I would like to implement n-grams model for this problem and there are some factors to ensure before going to that as it involves lot of memory to compute.And we need to make sure to execute it on a cloud instead of a local device.So I wish I could implement that in the coming future. \n"
   ]
  },
  {
   "cell_type": "markdown",
   "metadata": {},
   "source": [
    "# N-Gram Model\n",
    "The N-gram graph classification model combines the benefits of N-gram flexibility with the well-structured representation of directed graphs. Every extracted letter sequence from a text can be formed as N-gram and the relation of these N-grams can be reflected using a Graph. The text classification problem can be reduced in a graph theory and pattern matching problem. The use of NGG model overcomes some limitations of the Bag of Words model such as the word order omission and misspelling . The mapping of texts to N-gram graphs and the comparison between them reduces the dimensionality of the feature space and as consequence, it also reduces the complexity of the classification method."
   ]
  },
  {
   "cell_type": "markdown",
   "metadata": {},
   "source": [
    "# Research on state-of-the-art Sentiment Analysis :\n",
    "\n",
    "Sentiment Analysis is one of the most active research areas in Natural Language Processing, but it’s far from being a solved problem. It involves a deep understanding of the lexical, syntactic, and semantic rules of a language combined with background knowledge.  The intrinsic complexity of natural language and new challenging sentiment analysis tasks all with the big data paradigm in the background mean that there are more than ever fascinating research perspectives in affective language understanding. The ones I find most inspiring are the complex problems of detecting implicit sentiments and emotions, being able to handle multiple languages, deception detection, real time event analytics and the automated acquisition of common sense, world and contextual knowledge.\n"
   ]
  },
  {
   "cell_type": "markdown",
   "metadata": {},
   "source": [
    "# Research by Amazon : \n",
    "To this end, Amazon scientists sought to train an NLP model to select answers to questions from a set of answer candidates better than a baseline. They say their Transfer and Adapt (TANDA) approach, which builds on Google’s Transformer, can be effectively adapted to new domains with a small amount of training data while achieving higher accuracy than traditional techniques.\n",
    "\n",
    "\n"
   ]
  },
  {
   "cell_type": "markdown",
   "metadata": {},
   "source": [
    "# TANDA:\n",
    "It is a two-part training methodology that adapts the Transformer model to a question-answering task and  tailors it to specific types of questions and answers. A large-scale, general-purpose data set — Answer Sentence Natural Questions, or ASNQ — is used to prime the system, after which a fine-tuning step adapts it to a target domain. As the researchers explain."
   ]
  },
  {
   "cell_type": "markdown",
   "metadata": {},
   "source": [
    "# ASNQ : \n",
    "It is derived from the Google Natural Questions data set — is much larger in size than existing corpora of its kind, with 57,242 questions in a set used for training the AI models and 2,672 questions in a validation set. And it contains negative examples in addition to positive examples, which help the model learn to identify best answers to given questions out of similar but incorrect ones."
   ]
  },
  {
   "cell_type": "markdown",
   "metadata": {},
   "source": [
    "# https://www.researchgate.net/publication/321150349_Using_Text_Mining_Techniques_for_Extracting_Information_from_Research_Articles\n",
    "\n",
    "\n",
    "You can also go through the above research paper to know various methods to deal with text data instead of just going to classification."
   ]
  },
  {
   "cell_type": "code",
   "execution_count": 57,
   "metadata": {},
   "outputs": [
    {
     "data": {
      "text/html": [
       "<div>\n",
       "<style scoped>\n",
       "    .dataframe tbody tr th:only-of-type {\n",
       "        vertical-align: middle;\n",
       "    }\n",
       "\n",
       "    .dataframe tbody tr th {\n",
       "        vertical-align: top;\n",
       "    }\n",
       "\n",
       "    .dataframe thead th {\n",
       "        text-align: right;\n",
       "    }\n",
       "</style>\n",
       "<table border=\"1\" class=\"dataframe\">\n",
       "  <thead>\n",
       "    <tr style=\"text-align: right;\">\n",
       "      <th></th>\n",
       "      <th>0</th>\n",
       "    </tr>\n",
       "  </thead>\n",
       "  <tbody>\n",
       "    <tr>\n",
       "      <th>Naive Bayes(Bag of Words)</th>\n",
       "      <td>37</td>\n",
       "    </tr>\n",
       "    <tr>\n",
       "      <th>Naive Bayes(Stemming)</th>\n",
       "      <td>64</td>\n",
       "    </tr>\n",
       "    <tr>\n",
       "      <th>XGBoost</th>\n",
       "      <td>70</td>\n",
       "    </tr>\n",
       "  </tbody>\n",
       "</table>\n",
       "</div>"
      ],
      "text/plain": [
       "                            0\n",
       "Naive Bayes(Bag of Words)  37\n",
       "Naive Bayes(Stemming)      64\n",
       "XGBoost                    70"
      ]
     },
     "execution_count": 57,
     "metadata": {},
     "output_type": "execute_result"
    }
   ],
   "source": [
    "Accuracy_report"
   ]
  },
  {
   "cell_type": "markdown",
   "metadata": {},
   "source": [
    "# Challanges :\n",
    "\n",
    "It was a tough work as I was new to NLP but I was happy to come up to this extent on my own.And there are many problems and I have solved most of them.But one thing that I would like to change is to make the stemming process clear as some of  the words obtained after performing stemming doesn't even exist in English.So I have to try using some other method that has some predefined words while performing stemming."
   ]
  }
 ],
 "metadata": {
  "colab": {
   "collapsed_sections": [],
   "name": "W3_Vishnu_MNB_Approach1.ipynb",
   "provenance": [],
   "toc_visible": true
  },
  "kernelspec": {
   "display_name": "Python 3",
   "language": "python",
   "name": "python3"
  },
  "language_info": {
   "codemirror_mode": {
    "name": "ipython",
    "version": 3
   },
   "file_extension": ".py",
   "mimetype": "text/x-python",
   "name": "python",
   "nbconvert_exporter": "python",
   "pygments_lexer": "ipython3",
   "version": "3.7.3"
  }
 },
 "nbformat": 4,
 "nbformat_minor": 1
}
